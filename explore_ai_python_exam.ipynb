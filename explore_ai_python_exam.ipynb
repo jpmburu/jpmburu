{
  "nbformat": 4,
  "nbformat_minor": 0,
  "metadata": {
    "colab": {
      "provenance": [],
      "authorship_tag": "ABX9TyMNFw64o1pK/b7ZQNfWpN9h",
      "include_colab_link": true
    },
    "kernelspec": {
      "name": "python3",
      "display_name": "Python 3"
    },
    "language_info": {
      "name": "python"
    }
  },
  "cells": [
    {
      "cell_type": "markdown",
      "metadata": {
        "id": "view-in-github",
        "colab_type": "text"
      },
      "source": [
        "<a href=\"https://colab.research.google.com/github/jpmburu/jpmburu/blob/main/explore_ai_python_exam.ipynb\" target=\"_parent\"><img src=\"https://colab.research.google.com/assets/colab-badge.svg\" alt=\"Open In Colab\"/></a>"
      ]
    },
    {
      "cell_type": "code",
      "execution_count": 1,
      "metadata": {
        "id": "owKVM59BCHh0",
        "colab": {
          "base_uri": "https://localhost:8080/"
        },
        "outputId": "3bf2d4e8-eef7-415d-a20d-7681839c3328"
      },
      "outputs": [
        {
          "output_type": "stream",
          "name": "stdout",
          "text": [
            "Number of unique crop types: 8\n"
          ]
        }
      ],
      "source": [
        "# prompt: write code to generate number of unique crop types in the dataset\n",
        "\n",
        "import pandas as pd\n",
        "\n",
        "# Load the dataset\n",
        "df = pd.read_csv(\"MD_agric_exam-4313.csv\")\n",
        "\n",
        "# Get the number of unique crop types\n",
        "num_unique_crops = df[\"Crop_type\"].nunique()\n",
        "\n",
        "# Print the result\n",
        "print(f\"Number of unique crop types: {num_unique_crops}\")\n"
      ]
    },
    {
      "cell_type": "code",
      "source": [
        "# prompt: identify the maximum annual yield for \"Wheat\" crop in the data set rounded off to 2 decimal places\n",
        "\n",
        "# Filter rows for \"wheat\" crop type\n",
        "wheat_df = df[df[\"Crop_type\"] == \"wheat\"]\n",
        "\n",
        "# Find the maximum annual yield for \"wheat\" crop type\n",
        "max_yield_wheat = wheat_df[\"Annual_yield\"].max()\n",
        "\n",
        "# Round the result to 2 decimal places\n",
        "max_yield_wheat_rounded = round(max_yield_wheat, 2)\n",
        "\n",
        "# Print the result\n",
        "print(f\"Maximum annual yield for 'wheat' crop type: {max_yield_wheat_rounded}\")\n"
      ],
      "metadata": {
        "colab": {
          "base_uri": "https://localhost:8080/"
        },
        "id": "a6xSbvMYDOu6",
        "outputId": "7a822f6b-fddc-448e-a195-bed0683dfa32"
      },
      "execution_count": 3,
      "outputs": [
        {
          "output_type": "stream",
          "name": "stdout",
          "text": [
            "Maximum annual yield for 'wheat' crop type: 8.99\n"
          ]
        }
      ]
    },
    {
      "cell_type": "code",
      "source": [
        "# prompt: Find the total rainfall for crop types where the average pollution level is above 0.2.\n",
        "\n",
        "# Calculate average pollution level for each crop type\n",
        "avg_pollution_by_crop = df.groupby(\"Crop_type\")[\"Pollution_level\"].mean()\n",
        "\n",
        "# Filter crop types where average pollution level is above 0.2\n",
        "high_pollution_crops = avg_pollution_by_crop[avg_pollution_by_crop > 0.2].index\n",
        "\n",
        "# Filter rows for high pollution crop types\n",
        "high_pollution_df = df[df[\"Crop_type\"].isin(high_pollution_crops)]\n",
        "\n",
        "# Calculate total rainfall for crop types with average pollution level above 0.2\n",
        "total_rainfall_high_pollution = high_pollution_df[\"Rainfall\"].sum()\n",
        "\n",
        "# Print the result\n",
        "print(f\"Total rainfall for crop types with average pollution level above 0.2: {total_rainfall_high_pollution}\")\n"
      ],
      "metadata": {
        "colab": {
          "base_uri": "https://localhost:8080/"
        },
        "id": "vzYZrr_WETqz",
        "outputId": "59026583-ebc8-4f5e-9b6a-1567b78b9157"
      },
      "execution_count": 5,
      "outputs": [
        {
          "output_type": "stream",
          "name": "stdout",
          "text": [
            "Total rainfall for crop types with average pollution level above 0.2: 941959.7\n"
          ]
        }
      ]
    },
    {
      "cell_type": "code",
      "source": [
        "# Write a function to calculate the temperature range (Max_temperature_C - Min_temperature_C) for each farmer's field. Then, call the function with the following `Field_ID`: `1458`, `1895`, and `5443`. What are the results of these 3 calls?\n",
        "import pandas as pd\n",
        "\n",
        "def calculate_temperature_range(field_id):\n",
        "    # Load the dataset\n",
        "    df = pd.read_csv(\"MD_agric_exam-4313.csv\")\n",
        "\n",
        "    # Filter rows for the specified field ID\n",
        "    field_df = df[df[\"Field_ID\"] == field_id]\n",
        "\n",
        "    # Calculate temperature range for the field\n",
        "    temperature_range = field_df[\"Max_temperature_C\"].max() - field_df[\"Min_temperature_C\"].min()\n",
        "\n",
        "    return temperature_range"
      ],
      "metadata": {
        "id": "9h4173LWEiZ8"
      },
      "execution_count": 12,
      "outputs": []
    },
    {
      "cell_type": "code",
      "source": [
        "# Call the function with Field_ID 1458\n",
        "result_1458 = calculate_temperature_range(1458)\n",
        "print(f\"Temperature range for Field_ID 1458: {result_1458}\")\n",
        "\n",
        "# Call the function with Field_ID 1895\n",
        "result_1895 = calculate_temperature_range(1895)\n",
        "print(f\"Temperature range for Field_ID 1895: {result_1895}\")\n",
        "\n",
        "# Call the function with Field_ID 5443\n",
        "result_5443 = calculate_temperature_range(5443)\n",
        "print(f\"Temperature range for Field_ID 5443: {result_5443}\")"
      ],
      "metadata": {
        "colab": {
          "base_uri": "https://localhost:8080/"
        },
        "id": "sk4XS1udEwB1",
        "outputId": "cfce07a1-1aec-490d-c3c5-282242eb1307"
      },
      "execution_count": 13,
      "outputs": [
        {
          "output_type": "stream",
          "name": "stdout",
          "text": [
            "Temperature range for Field_ID 1458: 40.7\n",
            "Temperature range for Field_ID 1895: 35.7\n",
            "Temperature range for Field_ID 5443: 33.4\n"
          ]
        }
      ]
    },
    {
      "cell_type": "code",
      "source": [
        "# Filter rows where pH is less than 5.5\n",
        "low_ph_df = df[df[\"pH\"] < 5.5]\n",
        "\n",
        "# Calculate the total plot size for the filtered rows\n",
        "total_plot_size_low_ph = low_ph_df[\"Plot_size\"].sum()\n",
        "\n",
        "# Print the result\n",
        "print(f\"Total plot size for plots where pH is less than 5.5: {total_plot_size_low_ph}\")"
      ],
      "metadata": {
        "colab": {
          "base_uri": "https://localhost:8080/"
        },
        "id": "S5kn9nq9FrfO",
        "outputId": "6f2bb5f4-81ec-4a48-942d-c60978030d5b"
      },
      "execution_count": 14,
      "outputs": [
        {
          "output_type": "stream",
          "name": "stdout",
          "text": [
            "Total plot size for plots where pH is less than 5.5: 1731.8999999999999\n"
          ]
        }
      ]
    },
    {
      "cell_type": "code",
      "source": [
        "#Using Numpy, calculate the standard deviation of the 'Rainfall' for plots where the 'Plot_size' is larger than the median plot size of the dataset (round to 2 decimal places).\n",
        "import pandas as pd\n",
        "\n",
        "# Load the dataset\n",
        "df = pd.read_csv(\"MD_agric_exam-4313.csv\")\n",
        "\n",
        "# Filter rows based on conditions\n",
        "filtered_df = df[(df['Min_temperature_C'] < -5) & (df['Max_temperature_C'] > 30)]\n",
        "\n",
        "# Get the number of rows in the filtered dataset\n",
        "num_rows_filtered = len(filtered_df)\n",
        "\n",
        "# Print the number of rows in the filtered dataset\n",
        "print(f\"Number of rows in the filtered dataset: {num_rows_filtered}\")"
      ],
      "metadata": {
        "colab": {
          "base_uri": "https://localhost:8080/"
        },
        "id": "6LjkKvFLF4yF",
        "outputId": "9347b324-a985-45ba-9d34-df77ded9997f"
      },
      "execution_count": 16,
      "outputs": [
        {
          "output_type": "stream",
          "name": "stdout",
          "text": [
            "Number of rows in the filtered dataset: 319\n"
          ]
        }
      ]
    },
    {
      "cell_type": "code",
      "source": [
        "#Using Numpy, calculate the standard deviation of the 'Rainfall' for plots where the 'Plot_size' is larger than the median plot size of the dataset (round to 2 decimal places).\n",
        "import numpy as np\n",
        "import pandas as pd\n",
        "\n",
        "# Load the dataset\n",
        "df = pd.read_csv(\"MD_agric_exam-4313.csv\")\n",
        "\n",
        "# Calculate the median plot size\n",
        "median_plot_size = df['Plot_size'].median()\n",
        "\n",
        "# Filter rows where Plot_size is larger than the median plot size\n",
        "filtered_df = df[df['Plot_size'] > median_plot_size]\n",
        "\n",
        "# Calculate the standard deviation of 'Rainfall' for filtered plots\n",
        "rainfall_std_dev = np.std(filtered_df['Rainfall'])\n",
        "\n",
        "# Round the result to 2 decimal places\n",
        "rainfall_std_dev_rounded = round(rainfall_std_dev, 2)\n",
        "\n",
        "# Print the result\n",
        "print(f\"Standard deviation of Rainfall for plots larger than the median plot size: {rainfall_std_dev_rounded}\")"
      ],
      "metadata": {
        "colab": {
          "base_uri": "https://localhost:8080/"
        },
        "id": "91y4hmcnGHpk",
        "outputId": "1285a02c-c44f-45ac-face-ca81dce32446"
      },
      "execution_count": 18,
      "outputs": [
        {
          "output_type": "stream",
          "name": "stdout",
          "text": [
            "Standard deviation of Rainfall for plots larger than the median plot size: 469.62\n"
          ]
        }
      ]
    },
    {
      "cell_type": "markdown",
      "source": [
        "If you concatenate the first three digits of the most common ‘Max_temperature_C’ with the last three letters of the least common 'Crop_type', what string do you get?\n",
        "Note: Use the first mode if there are multiple modes\n",
        "\n"
      ],
      "metadata": {
        "id": "UoxzoZQNGm2M"
      }
    },
    {
      "cell_type": "code",
      "source": [
        "import pandas as pd\n",
        "\n",
        "# Load the dataset\n",
        "df = pd.read_csv(\"MD_agric_exam-4313.csv\")\n",
        "\n",
        "# Find the most common Max_temperature_C\n",
        "most_common_temp = df['Max_temperature_C'].mode()[0]\n",
        "\n",
        "# Find the least common Crop_type\n",
        "least_common_crop = df['Crop_type'].value_counts().idxmin()\n",
        "\n",
        "# Concatenate the first three digits of the most common Max_temperature_C with the last three letters of the least common Crop_type\n",
        "result_string = str(most_common_temp)[:3] + least_common_crop[-3:]\n",
        "\n",
        "# Print the result\n",
        "print(\"Result String:\", result_string)\n"
      ],
      "metadata": {
        "colab": {
          "base_uri": "https://localhost:8080/"
        },
        "id": "1JkRvCp4GkCu",
        "outputId": "a87544d5-08bd-44e5-8102-203e641dbeaa"
      },
      "execution_count": 19,
      "outputs": [
        {
          "output_type": "stream",
          "name": "stdout",
          "text": [
            "Result String: 30.ice\n"
          ]
        }
      ]
    },
    {
      "cell_type": "markdown",
      "source": [
        "Write Python code to create a violin plot visualising the distribution of 'Annual_yield' across different 'Elevation' ranges. Use the provided elevation range categories (Low: < 300m, Medium: 300m - 600m, High: > 600m) to categorise the data before plotting.  Examine the violin plot displaying the distribution of 'Annual Yield' across three elevation categories (Low, Medium, High). What insight does the violin plot provide regarding the relationship between elevation ranges and annual yield distribution?\n",
        "\n"
      ],
      "metadata": {
        "id": "KX3AcsC3G1s7"
      }
    },
    {
      "cell_type": "code",
      "source": [
        "import seaborn as sns\n",
        "import pandas as pd\n",
        "import matplotlib.pyplot as plt\n",
        "\n",
        "# Load the dataset\n",
        "df = pd.read_csv(\"MD_agric_exam-4313.csv\")\n",
        "\n",
        "# Categorize elevation ranges\n",
        "def categorize_elevation(elevation):\n",
        "    if elevation < 300:\n",
        "        return \"Low\"\n",
        "    elif 300 <= elevation <= 600:\n",
        "        return \"Medium\"\n",
        "    else:\n",
        "        return \"High\"\n",
        "\n",
        "df['Elevation_range'] = df['Elevation'].apply(categorize_elevation)\n",
        "\n",
        "# Create violin plot\n",
        "plt.figure(figsize=(10, 6))\n",
        "sns.violinplot(x='Elevation_range', y='Annual_yield', data=df)\n",
        "plt.title(\"Distribution of Annual Yield Across Different Elevation Ranges\")\n",
        "plt.xlabel(\"Elevation Range\")\n",
        "plt.ylabel(\"Annual Yield\")\n",
        "plt.show()"
      ],
      "metadata": {
        "colab": {
          "base_uri": "https://localhost:8080/",
          "height": 564
        },
        "id": "6tGdipIsG36M",
        "outputId": "59be5e83-8a2b-444f-ece0-71601fb3b069"
      },
      "execution_count": 20,
      "outputs": [
        {
          "output_type": "display_data",
          "data": {
            "text/plain": [
              "<Figure size 1000x600 with 1 Axes>"
            ],
            "image/png": "[encoded data removed]"
          },
          "metadata": {}
        }
      ]
    },
    {
      "cell_type": "markdown",
      "source": [
        "This code categorizes the elevation into three ranges: Low, Medium, and High based on the provided criteria. Then, it creates a violin plot using seaborn's violinplot function, with 'Elevation_range' on the x-axis and 'Annual_yield' on the y-axis.\n",
        "\n",
        "Insights from the violin plot:\n",
        "\n",
        "The violin plot shows the distribution of annual yield across different elevation ranges.\n",
        "It provides an overview of the distribution of annual yield within each elevation range and allows for easy comparison between the ranges.\n",
        "You can observe the spread of data, the shape of the distribution, and any potential outliers in each elevation range.\n",
        "By examining the width of the violin plots at different elevation ranges, you can get an idea of the variability in annual yield within each range. For example, wider sections indicate higher variability.\n",
        "\n",
        "\n",
        "\n"
      ],
      "metadata": {
        "id": "KzBq0EauHcda"
      }
    },
    {
      "cell_type": "code",
      "source": [
        "# prompt: analyze the violin plot\n",
        "\n",
        "# Analyze the violin plot\n",
        "\n",
        "# 1. Distribution of Annual Yield within Elevation Ranges:\n",
        "\n",
        "# Observe the spread of the violin plots for each elevation range. Wider sections indicate higher variability in annual yield within that range. For example, the \"Medium\" elevation range appears to have a wider spread compared to the \"Low\" and \"High\" ranges, suggesting greater variability in annual yield for plots in the medium elevation range.\n",
        "\n",
        "# 2. Comparison of Annual Yield across Elevation Ranges:\n",
        "\n",
        "# Compare the medians of the violin plots to assess the overall differences in annual yield across elevation ranges. The median is represented by the thick line inside each violin plot. If the median of one elevation range is consistently higher or lower than the others, it suggests a potential trend in annual yield based on elevation.\n",
        "\n",
        "# 3. Outliers:\n",
        "\n",
        "# Identify any outliers in the violin plots. Outliers are data points that are significantly different from the rest of the data. They can be represented by individual data points beyond the main body of the violin plot. Outliers can provide insights into extreme values or unusual cases within each elevation range.\n",
        "\n",
        "# 4. Shape of the Distribution:\n",
        "\n",
        "# Examine the shape of the violin plots to understand the overall distribution of annual yield within each elevation range. For example, a symmetrical violin plot indicates a more normal distribution, while a skewed violin plot suggests a偏态分布. This information can be useful in understanding the typical and atypical annual yields associated with different elevation ranges.\n",
        "\n",
        "# 5. Recommendations:\n",
        "\n",
        "# Based on the analysis of the violin plot, you can provide recommendations for farmers or agricultural experts on the potential relationship between elevation ranges and annual yield. For example, if the analysis suggests that higher elevation ranges consistently yield higher annual yields, you might recommend that farmers consider cultivating crops at higher elevations to potentially improve their yields.\n",
        "\n",
        "# 6. Further Investigations:\n",
        "\n",
        "# The violin plot analysis provides a starting point for further investigations into the relationship between elevation ranges and annual yield. You might consider conducting statistical tests to confirm any observed trends or patterns. Additionally, you could explore other factors that might influence annual yield, such as soil quality, crop type, or rainfall patterns, to gain a more comprehensive understanding of the factors affecting crop productivity in different elevation ranges.\n",
        "\n"
      ],
      "metadata": {
        "id": "CRMCux9DIo0G"
      },
      "execution_count": null,
      "outputs": []
    },
    {
      "cell_type": "code",
      "source": [
        "# Define the recursive function to sum the integer values for each unique crop type\n",
        "def sum_crop_type_lengths(data, index=0, unique_crops=None):\n",
        "    if unique_crops is None:\n",
        "        unique_crops = data['Crop_type'].unique()\n",
        "    if index == len(unique_crops):\n",
        "        return 0\n",
        "    else:\n",
        "        return len(unique_crops[index]) + sum_crop_type_lengths(data, index + 1, unique_crops)\n",
        "\n",
        "# Call the recursive function\n",
        "total_sum = sum_crop_type_lengths(df)\n",
        "\n",
        "# Print the sum\n",
        "print(\"Total sum of integer values for each unique crop type:\", total_sum)"
      ],
      "metadata": {
        "colab": {
          "base_uri": "https://localhost:8080/"
        },
        "id": "nVE4PjH9Ksk8",
        "outputId": "080825a8-7b4a-4ab2-f69f-35359c97f63b"
      },
      "execution_count": 23,
      "outputs": [
        {
          "output_type": "stream",
          "name": "stdout",
          "text": [
            "Total sum of integer values for each unique crop type: 42\n"
          ]
        }
      ]
    },
    {
      "cell_type": "markdown",
      "source": [
        "Write Python code to perform a t-test comparing the average 'Annual_yield' between 'coffee' and 'banana' crop types using scipy.stats. What is the p-value, rounded to three decimal places"
      ],
      "metadata": {
        "id": "AsYEGNsuK65K"
      }
    },
    {
      "cell_type": "code",
      "source": [
        "import pandas as pd\n",
        "from scipy.stats import ttest_ind\n",
        "\n",
        "# Load the dataset\n",
        "df = pd.read_csv(\"MD_agric_exam-4313.csv\")\n",
        "\n",
        "# Filter rows for 'coffee' and 'banana' crop types\n",
        "coffee_yield = df[df['Crop_type'] == 'coffee']['Annual_yield']\n",
        "banana_yield = df[df['Crop_type'] == 'banana']['Annual_yield']\n",
        "\n",
        "# Perform t-test\n",
        "t_statistic, p_value = ttest_ind(coffee_yield, banana_yield)\n",
        "\n",
        "# Print the p-value rounded to three decimal places\n",
        "print(\"p-value:\", round(p_value, 3))"
      ],
      "metadata": {
        "colab": {
          "base_uri": "https://localhost:8080/"
        },
        "id": "mXVzCK3MLHqI",
        "outputId": "3455d7fd-9786-4b00-983e-f1c13d7bc5c0"
      },
      "execution_count": 25,
      "outputs": [
        {
          "output_type": "stream",
          "name": "stdout",
          "text": [
            "p-value: 0.598\n"
          ]
        }
      ]
    }
  ]
}